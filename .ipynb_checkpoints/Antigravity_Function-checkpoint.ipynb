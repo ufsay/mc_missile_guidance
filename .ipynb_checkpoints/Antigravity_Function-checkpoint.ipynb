{
 "cells": [
  {
   "cell_type": "code",
   "execution_count": 7,
   "id": "6d4f0583-3bd7-49cf-83f2-02fb9d66c452",
   "metadata": {},
   "outputs": [
    {
     "ename": "SyntaxError",
     "evalue": "'(' was never closed (3059291351.py, line 19)",
     "output_type": "error",
     "traceback": [
      "\u001b[0;36m  Cell \u001b[0;32mIn[7], line 19\u001b[0;36m\u001b[0m\n\u001b[0;31m    list += str(getAngle(thrust, (i/10), g) + \"D,\"\u001b[0m\n\u001b[0m               ^\u001b[0m\n\u001b[0;31mSyntaxError\u001b[0m\u001b[0;31m:\u001b[0m '(' was never closed\n"
     ]
    }
   ],
   "source": [
    "import numpy as np\n",
    "import matplotlib.pyplot as plt\n",
    "from scipy import optimize\n",
    "\n",
    "def getAngle(thrust, targetPitch, g):\n",
    "    targetPitch = np.deg2rad(targetPitch)\n",
    "    x = optimize.newton(f , targetPitch, fprime = fprime, args = (thrust, targetPitch, g))\n",
    "    return np.rad2deg(x)\n",
    "    \n",
    "def f(x, thrust, targetPitch, g):\n",
    "    return ((g/thrust) + np.tan(targetPitch)*np.cos(x) - np.sin(x))\n",
    "\n",
    "def fprime(x, thrust, targetPitch, g):\n",
    "    return (-np.tan(targetPitch)*np.sin(x) - np.cos(x))\n",
    "\n",
    "def getList(thrust, start, end, step, g):\n",
    "    list = \"{\"\n",
    "    for i in range(start, end, step):\n",
    "        list += str(getAngle(thrust, (i/10), g) + \"D,\")\n",
    "    list += str(getAngle(thrust, end, g)) + \"D}\"\n",
    "    print(list)\n",
    "        \n",
    "        \n",
    "\n",
    "getList(0.4, -900, 900, 1, 0.2)\n",
    "\n",
    "\n",
    "    "
   ]
  },
  {
   "cell_type": "code",
   "execution_count": null,
   "id": "45540838-f6ce-47ec-ad94-ac1a96f5954b",
   "metadata": {},
   "outputs": [],
   "source": []
  },
  {
   "cell_type": "code",
   "execution_count": null,
   "id": "7178908b-daed-45b7-b181-bacb9c180758",
   "metadata": {},
   "outputs": [],
   "source": []
  },
  {
   "cell_type": "code",
   "execution_count": null,
   "id": "edf39fe1-59af-4458-9cef-ea738d5f95a7",
   "metadata": {},
   "outputs": [],
   "source": []
  }
 ],
 "metadata": {
  "kernelspec": {
   "display_name": "Python 3 (ipykernel)",
   "language": "python",
   "name": "python3"
  },
  "language_info": {
   "codemirror_mode": {
    "name": "ipython",
    "version": 3
   },
   "file_extension": ".py",
   "mimetype": "text/x-python",
   "name": "python",
   "nbconvert_exporter": "python",
   "pygments_lexer": "ipython3",
   "version": "3.12.3"
  }
 },
 "nbformat": 4,
 "nbformat_minor": 5
}
